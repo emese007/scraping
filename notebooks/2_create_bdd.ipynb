{
 "cells": [
  {
   "cell_type": "markdown",
   "id": "5c38e090",
   "metadata": {},
   "source": [
    "# Traitement et stockage des données issues du scraping\n",
    "\n",
    "Vous avez scrapé les données du site de livres et les avez stockées dans un fichier. \n",
    "\n",
    "L'objectif de ce notebook est de créer une base de données pour y stocker ces données."
   ]
  },
  {
   "cell_type": "code",
   "execution_count": 47,
   "id": "fc007873",
   "metadata": {},
   "outputs": [],
   "source": [
    "import sqlite3\n",
    "import pandas as pd"
   ]
  },
  {
   "cell_type": "markdown",
   "id": "dd34cc58",
   "metadata": {},
   "source": [
    "Lire les données du fichier sauvegardé en utilisant pandas."
   ]
  },
  {
   "cell_type": "code",
   "execution_count": 48,
   "id": "8aa4b567",
   "metadata": {},
   "outputs": [
    {
     "data": {
      "application/vnd.microsoft.datawrangler.viewer.v0+json": {
       "columns": [
        {
         "name": "index",
         "rawType": "int64",
         "type": "integer"
        },
        {
         "name": "title",
         "rawType": "object",
         "type": "string"
        },
        {
         "name": "price",
         "rawType": "object",
         "type": "string"
        },
        {
         "name": "availability",
         "rawType": "object",
         "type": "string"
        },
        {
         "name": "rating",
         "rawType": "object",
         "type": "string"
        }
       ],
       "ref": "1a409868-8b13-4cba-9a0a-e6f80b915733",
       "rows": [
        [
         "0",
         "A Light in the Attic",
         "£51.77",
         "In stock",
         "Three"
        ],
        [
         "1",
         "Tipping the Velvet",
         "£53.74",
         "In stock",
         "One"
        ],
        [
         "2",
         "Soumission",
         "£50.10",
         "In stock",
         "One"
        ],
        [
         "3",
         "Sharp Objects",
         "£47.82",
         "In stock",
         "Four"
        ],
        [
         "4",
         "Sapiens: A Brief History of Humankind",
         "£54.23",
         "In stock",
         "Five"
        ]
       ],
       "shape": {
        "columns": 4,
        "rows": 5
       }
      },
      "text/html": [
       "<div>\n",
       "<style scoped>\n",
       "    .dataframe tbody tr th:only-of-type {\n",
       "        vertical-align: middle;\n",
       "    }\n",
       "\n",
       "    .dataframe tbody tr th {\n",
       "        vertical-align: top;\n",
       "    }\n",
       "\n",
       "    .dataframe thead th {\n",
       "        text-align: right;\n",
       "    }\n",
       "</style>\n",
       "<table border=\"1\" class=\"dataframe\">\n",
       "  <thead>\n",
       "    <tr style=\"text-align: right;\">\n",
       "      <th></th>\n",
       "      <th>title</th>\n",
       "      <th>price</th>\n",
       "      <th>availability</th>\n",
       "      <th>rating</th>\n",
       "    </tr>\n",
       "  </thead>\n",
       "  <tbody>\n",
       "    <tr>\n",
       "      <th>0</th>\n",
       "      <td>A Light in the Attic</td>\n",
       "      <td>£51.77</td>\n",
       "      <td>In stock</td>\n",
       "      <td>Three</td>\n",
       "    </tr>\n",
       "    <tr>\n",
       "      <th>1</th>\n",
       "      <td>Tipping the Velvet</td>\n",
       "      <td>£53.74</td>\n",
       "      <td>In stock</td>\n",
       "      <td>One</td>\n",
       "    </tr>\n",
       "    <tr>\n",
       "      <th>2</th>\n",
       "      <td>Soumission</td>\n",
       "      <td>£50.10</td>\n",
       "      <td>In stock</td>\n",
       "      <td>One</td>\n",
       "    </tr>\n",
       "    <tr>\n",
       "      <th>3</th>\n",
       "      <td>Sharp Objects</td>\n",
       "      <td>£47.82</td>\n",
       "      <td>In stock</td>\n",
       "      <td>Four</td>\n",
       "    </tr>\n",
       "    <tr>\n",
       "      <th>4</th>\n",
       "      <td>Sapiens: A Brief History of Humankind</td>\n",
       "      <td>£54.23</td>\n",
       "      <td>In stock</td>\n",
       "      <td>Five</td>\n",
       "    </tr>\n",
       "  </tbody>\n",
       "</table>\n",
       "</div>"
      ],
      "text/plain": [
       "                                   title   price availability rating\n",
       "0                   A Light in the Attic  £51.77     In stock  Three\n",
       "1                     Tipping the Velvet  £53.74     In stock    One\n",
       "2                             Soumission  £50.10     In stock    One\n",
       "3                          Sharp Objects  £47.82     In stock   Four\n",
       "4  Sapiens: A Brief History of Humankind  £54.23     In stock   Five"
      ]
     },
     "execution_count": 48,
     "metadata": {},
     "output_type": "execute_result"
    }
   ],
   "source": [
    "# Lire les données du fichier que vous venez d'enregistrer\n",
    "df_books = pd.read_csv(\"/home/emese/Briefs_test/scraping/notebooks/books_infos.csv\", index_col=0)\n",
    "df_books.head()\n",
    "\n",
    "#df_books.availability.unique()"
   ]
  },
  {
   "cell_type": "code",
   "execution_count": 49,
   "id": "b60757a6",
   "metadata": {},
   "outputs": [
    {
     "data": {
      "application/vnd.microsoft.datawrangler.viewer.v0+json": {
       "columns": [
        {
         "name": "index",
         "rawType": "int64",
         "type": "integer"
        },
        {
         "name": "title",
         "rawType": "object",
         "type": "string"
        },
        {
         "name": "price",
         "rawType": "object",
         "type": "string"
        },
        {
         "name": "availability",
         "rawType": "object",
         "type": "string"
        },
        {
         "name": "rating",
         "rawType": "object",
         "type": "string"
        }
       ],
       "ref": "1f94c62a-efda-4f46-9eb7-b0ae63e64b9f",
       "rows": [
        [
         "0",
         "A Light in the Attic",
         "£51.77",
         "In stock",
         "Three"
        ],
        [
         "1",
         "Tipping the Velvet",
         "£53.74",
         "In stock",
         "One"
        ],
        [
         "2",
         "Soumission",
         "£50.10",
         "In stock",
         "One"
        ],
        [
         "3",
         "Sharp Objects",
         "£47.82",
         "In stock",
         "Four"
        ],
        [
         "4",
         "Sapiens: A Brief History of Humankind",
         "£54.23",
         "In stock",
         "Five"
        ],
        [
         "5",
         "The Requiem Red",
         "£22.65",
         "In stock",
         "One"
        ],
        [
         "6",
         "The Dirty Little Secrets of Getting Your Dream Job",
         "£33.34",
         "In stock",
         "Four"
        ],
        [
         "7",
         "The Coming Woman: A Novel Based on the Life of the Infamous Feminist, Victoria Woodhull",
         "£17.93",
         "In stock",
         "Three"
        ],
        [
         "8",
         "The Boys in the Boat: Nine Americans and Their Epic Quest for Gold at the 1936 Berlin Olympics",
         "£22.60",
         "In stock",
         "Four"
        ],
        [
         "9",
         "The Black Maria",
         "£52.15",
         "In stock",
         "One"
        ],
        [
         "10",
         "Starving Hearts (Triangular Trade Trilogy, #1)",
         "£13.99",
         "In stock",
         "Two"
        ],
        [
         "11",
         "Shakespeare's Sonnets",
         "£20.66",
         "In stock",
         "Four"
        ],
        [
         "12",
         "Set Me Free",
         "£17.46",
         "In stock",
         "Five"
        ],
        [
         "13",
         "Scott Pilgrim's Precious Little Life (Scott Pilgrim #1)",
         "£52.29",
         "In stock",
         "Five"
        ],
        [
         "14",
         "Rip it Up and Start Again",
         "£35.02",
         "In stock",
         "Five"
        ],
        [
         "15",
         "Our Band Could Be Your Life: Scenes from the American Indie Underground, 1981-1991",
         "£57.25",
         "In stock",
         "Three"
        ],
        [
         "16",
         "Olio",
         "£23.88",
         "In stock",
         "One"
        ],
        [
         "17",
         "Mesaerion: The Best Science Fiction Stories 1800-1849",
         "£37.59",
         "In stock",
         "One"
        ],
        [
         "18",
         "Libertarianism for Beginners",
         "£51.33",
         "In stock",
         "Two"
        ],
        [
         "19",
         "It's Only the Himalayas",
         "£45.17",
         "In stock",
         "Two"
        ],
        [
         "20",
         "In Her Wake",
         "£12.84",
         "In stock",
         "One"
        ],
        [
         "21",
         "How Music Works",
         "£37.32",
         "In stock",
         "Two"
        ],
        [
         "22",
         "Foolproof Preserving: A Guide to Small Batch Jams, Jellies, Pickles, Condiments, and More: A Foolproof Guide to Making Small Batch Jams, Jellies, Pickles, Condiments, and More",
         "£30.52",
         "In stock",
         "Three"
        ],
        [
         "23",
         "Chase Me (Paris Nights #2)",
         "£25.27",
         "In stock",
         "Five"
        ],
        [
         "24",
         "Black Dust",
         "£34.53",
         "In stock",
         "Five"
        ],
        [
         "25",
         "Birdsong: A Story in Pictures",
         "£54.64",
         "In stock",
         "Three"
        ],
        [
         "26",
         "America's Cradle of Quarterbacks: Western Pennsylvania's Football Factory from Johnny Unitas to Joe Montana",
         "£22.50",
         "In stock",
         "Three"
        ],
        [
         "27",
         "Aladdin and His Wonderful Lamp",
         "£53.13",
         "In stock",
         "Three"
        ],
        [
         "28",
         "Worlds Elsewhere: Journeys Around Shakespeare’s Globe",
         "£40.30",
         "In stock",
         "Five"
        ],
        [
         "29",
         "Wall and Piece",
         "£44.18",
         "In stock",
         "Four"
        ],
        [
         "30",
         "The Four Agreements: A Practical Guide to Personal Freedom",
         "£17.66",
         "In stock",
         "Five"
        ],
        [
         "31",
         "The Five Love Languages: How to Express Heartfelt Commitment to Your Mate",
         "£31.05",
         "In stock",
         "Three"
        ],
        [
         "32",
         "The Elephant Tree",
         "£23.82",
         "In stock",
         "Five"
        ],
        [
         "33",
         "The Bear and the Piano",
         "£36.89",
         "In stock",
         "One"
        ],
        [
         "34",
         "Sophie's World",
         "£15.94",
         "In stock",
         "Five"
        ],
        [
         "35",
         "Penny Maybe",
         "£33.29",
         "In stock",
         "Three"
        ],
        [
         "36",
         "Maude (1883-1993):She Grew Up with the country",
         "£18.02",
         "In stock",
         "Two"
        ],
        [
         "37",
         "In a Dark, Dark Wood",
         "£19.63",
         "In stock",
         "One"
        ],
        [
         "38",
         "Behind Closed Doors",
         "£52.22",
         "In stock",
         "Four"
        ],
        [
         "39",
         "You can't bury them all: Poems",
         "£33.63",
         "In stock",
         "Two"
        ],
        [
         "40",
         "Slow States of Collapse: Poems",
         "£57.31",
         "In stock",
         "Three"
        ],
        [
         "41",
         "Reasons to Stay Alive",
         "£26.41",
         "In stock",
         "Two"
        ],
        [
         "42",
         "Private Paris (Private #10)",
         "£47.61",
         "In stock",
         "Five"
        ],
        [
         "43",
         "#HigherSelfie: Wake Up Your Life. Free Your Soul. Find Your Tribe.",
         "£23.11",
         "In stock",
         "Five"
        ],
        [
         "44",
         "Without Borders (Wanderlove #1)",
         "£45.07",
         "In stock",
         "Two"
        ],
        [
         "45",
         "When We Collided",
         "£31.77",
         "In stock",
         "One"
        ],
        [
         "46",
         "We Love You, Charlie Freeman",
         "£50.27",
         "In stock",
         "Five"
        ],
        [
         "47",
         "Untitled Collection: Sabbath Poems 2014",
         "£14.27",
         "In stock",
         "Four"
        ],
        [
         "48",
         "Unseen City: The Majesty of Pigeons, the Discreet Charm of Snails & Other Wonders of the Urban Wilderness",
         "£44.18",
         "In stock",
         "Four"
        ],
        [
         "49",
         "Unicorn Tracks",
         "£18.78",
         "In stock",
         "Three"
        ]
       ],
       "shape": {
        "columns": 4,
        "rows": 1000
       }
      },
      "text/html": [
       "<div>\n",
       "<style scoped>\n",
       "    .dataframe tbody tr th:only-of-type {\n",
       "        vertical-align: middle;\n",
       "    }\n",
       "\n",
       "    .dataframe tbody tr th {\n",
       "        vertical-align: top;\n",
       "    }\n",
       "\n",
       "    .dataframe thead th {\n",
       "        text-align: right;\n",
       "    }\n",
       "</style>\n",
       "<table border=\"1\" class=\"dataframe\">\n",
       "  <thead>\n",
       "    <tr style=\"text-align: right;\">\n",
       "      <th></th>\n",
       "      <th>title</th>\n",
       "      <th>price</th>\n",
       "      <th>availability</th>\n",
       "      <th>rating</th>\n",
       "    </tr>\n",
       "  </thead>\n",
       "  <tbody>\n",
       "    <tr>\n",
       "      <th>0</th>\n",
       "      <td>A Light in the Attic</td>\n",
       "      <td>£51.77</td>\n",
       "      <td>In stock</td>\n",
       "      <td>Three</td>\n",
       "    </tr>\n",
       "    <tr>\n",
       "      <th>1</th>\n",
       "      <td>Tipping the Velvet</td>\n",
       "      <td>£53.74</td>\n",
       "      <td>In stock</td>\n",
       "      <td>One</td>\n",
       "    </tr>\n",
       "    <tr>\n",
       "      <th>2</th>\n",
       "      <td>Soumission</td>\n",
       "      <td>£50.10</td>\n",
       "      <td>In stock</td>\n",
       "      <td>One</td>\n",
       "    </tr>\n",
       "    <tr>\n",
       "      <th>3</th>\n",
       "      <td>Sharp Objects</td>\n",
       "      <td>£47.82</td>\n",
       "      <td>In stock</td>\n",
       "      <td>Four</td>\n",
       "    </tr>\n",
       "    <tr>\n",
       "      <th>4</th>\n",
       "      <td>Sapiens: A Brief History of Humankind</td>\n",
       "      <td>£54.23</td>\n",
       "      <td>In stock</td>\n",
       "      <td>Five</td>\n",
       "    </tr>\n",
       "    <tr>\n",
       "      <th>...</th>\n",
       "      <td>...</td>\n",
       "      <td>...</td>\n",
       "      <td>...</td>\n",
       "      <td>...</td>\n",
       "    </tr>\n",
       "    <tr>\n",
       "      <th>995</th>\n",
       "      <td>Alice in Wonderland (Alice's Adventures in Won...</td>\n",
       "      <td>£55.53</td>\n",
       "      <td>In stock</td>\n",
       "      <td>One</td>\n",
       "    </tr>\n",
       "    <tr>\n",
       "      <th>996</th>\n",
       "      <td>Ajin: Demi-Human, Volume 1 (Ajin: Demi-Human #1)</td>\n",
       "      <td>£57.06</td>\n",
       "      <td>In stock</td>\n",
       "      <td>Four</td>\n",
       "    </tr>\n",
       "    <tr>\n",
       "      <th>997</th>\n",
       "      <td>A Spy's Devotion (The Regency Spies of London #1)</td>\n",
       "      <td>£16.97</td>\n",
       "      <td>In stock</td>\n",
       "      <td>Five</td>\n",
       "    </tr>\n",
       "    <tr>\n",
       "      <th>998</th>\n",
       "      <td>1st to Die (Women's Murder Club #1)</td>\n",
       "      <td>£53.98</td>\n",
       "      <td>In stock</td>\n",
       "      <td>One</td>\n",
       "    </tr>\n",
       "    <tr>\n",
       "      <th>999</th>\n",
       "      <td>1,000 Places to See Before You Die</td>\n",
       "      <td>£26.08</td>\n",
       "      <td>In stock</td>\n",
       "      <td>Five</td>\n",
       "    </tr>\n",
       "  </tbody>\n",
       "</table>\n",
       "<p>1000 rows × 4 columns</p>\n",
       "</div>"
      ],
      "text/plain": [
       "                                                 title   price availability  \\\n",
       "0                                 A Light in the Attic  £51.77     In stock   \n",
       "1                                   Tipping the Velvet  £53.74     In stock   \n",
       "2                                           Soumission  £50.10     In stock   \n",
       "3                                        Sharp Objects  £47.82     In stock   \n",
       "4                Sapiens: A Brief History of Humankind  £54.23     In stock   \n",
       "..                                                 ...     ...          ...   \n",
       "995  Alice in Wonderland (Alice's Adventures in Won...  £55.53     In stock   \n",
       "996   Ajin: Demi-Human, Volume 1 (Ajin: Demi-Human #1)  £57.06     In stock   \n",
       "997  A Spy's Devotion (The Regency Spies of London #1)  £16.97     In stock   \n",
       "998                1st to Die (Women's Murder Club #1)  £53.98     In stock   \n",
       "999                 1,000 Places to See Before You Die  £26.08     In stock   \n",
       "\n",
       "    rating  \n",
       "0    Three  \n",
       "1      One  \n",
       "2      One  \n",
       "3     Four  \n",
       "4     Five  \n",
       "..     ...  \n",
       "995    One  \n",
       "996   Four  \n",
       "997   Five  \n",
       "998    One  \n",
       "999   Five  \n",
       "\n",
       "[1000 rows x 4 columns]"
      ]
     },
     "execution_count": 49,
     "metadata": {},
     "output_type": "execute_result"
    }
   ],
   "source": [
    "df_books"
   ]
  },
  {
   "cell_type": "markdown",
   "id": "56d48fb1",
   "metadata": {},
   "source": [
    "## 1. Prétraitement des données\n",
    "\n",
    "On souhaite créer la table _book_ contenant les attributs suivants : \n",
    "- id : INT, PK,\n",
    "- title : TEXT,\n",
    "- price : DECIMAL\n",
    "- availability : BOOLEAN\n",
    "- rating : INT [0:5]\n",
    "\n",
    "Vérifier les types des colonnes du dataframe."
   ]
  },
  {
   "cell_type": "code",
   "execution_count": 50,
   "id": "0505d094",
   "metadata": {},
   "outputs": [
    {
     "data": {
      "application/vnd.microsoft.datawrangler.viewer.v0+json": {
       "columns": [
        {
         "name": "index",
         "rawType": "object",
         "type": "string"
        },
        {
         "name": "0",
         "rawType": "object",
         "type": "unknown"
        }
       ],
       "ref": "e6fadea9-7bce-4990-8cd2-2b3f6f292f1d",
       "rows": [
        [
         "title",
         "object"
        ],
        [
         "price",
         "object"
        ],
        [
         "availability",
         "object"
        ],
        [
         "rating",
         "object"
        ]
       ],
       "shape": {
        "columns": 1,
        "rows": 4
       }
      },
      "text/plain": [
       "title           object\n",
       "price           object\n",
       "availability    object\n",
       "rating          object\n",
       "dtype: object"
      ]
     },
     "execution_count": 50,
     "metadata": {},
     "output_type": "execute_result"
    }
   ],
   "source": [
    "# Vérification des types de données\n",
    "df_books.dtypes"
   ]
  },
  {
   "cell_type": "markdown",
   "id": "1be2df09",
   "metadata": {},
   "source": [
    "Dans les cellules qui suivent, des méthodes de traitement de données sont suggérées pour donner un aperçu de ce qu'il est possible de faire avec pandas.\n",
    "\n",
    "**Il est tout à fait possible de faire autrement.**\n",
    "\n",
    "Utiliser la méthode pandas [_astype_](https://pandas.pydata.org/pandas-docs/stable/reference/api/pandas.DataFrame.astype.html) pour convertir la colonne de titre en chaîne de caractère."
   ]
  },
  {
   "cell_type": "code",
   "execution_count": 51,
   "id": "10f0638f",
   "metadata": {},
   "outputs": [
    {
     "name": "stdout",
     "output_type": "stream",
     "text": [
      "object\n"
     ]
    }
   ],
   "source": [
    "# Conversion de title en chaîne de caractères\n",
    "df_books[\"title\"] = df_books[\"title\"].astype(str)\n",
    "\n",
    "# Vérification du type de la colonne title\n",
    "print(df_books[\"title\"].dtype)"
   ]
  },
  {
   "cell_type": "markdown",
   "id": "e4e6b924",
   "metadata": {},
   "source": [
    "Pour convertir la colonne de prix en nombre décimal, il est nécessaire d'utiliser une étape intermédiaire pour retirer le caractère \"£\".\n",
    "\n",
    "Il est possible par exemple d'utiliser l'attribut [.str](https://pandas.pydata.org/pandas-docs/stable/reference/api/pandas.Series.str.html) de la série \"price\"."
   ]
  },
  {
   "cell_type": "code",
   "execution_count": 52,
   "id": "5e6bd8ce",
   "metadata": {},
   "outputs": [
    {
     "name": "stdout",
     "output_type": "stream",
     "text": [
      "float64\n"
     ]
    }
   ],
   "source": [
    "# Convertir la colonne price en type décimal\n",
    "df_books[\"price\"] = df_books[\"price\"].astype(str).str.removeprefix(\"£\")\n",
    "df_books[\"price\"] = df_books[\"price\"].astype(float)\n",
    "\n",
    "# Vérification du type de la colonne price\n",
    "print(df_books[\"price\"].dtype)"
   ]
  },
  {
   "cell_type": "markdown",
   "id": "a537478f",
   "metadata": {},
   "source": [
    "Convertir la colonne `availability` en boolen (True/False).\n",
    "\n",
    "Quelles sont les valeurs possibles pour la colonne availability ?"
   ]
  },
  {
   "cell_type": "code",
   "execution_count": 53,
   "id": "fbadd4ca",
   "metadata": {},
   "outputs": [
    {
     "name": "stdout",
     "output_type": "stream",
     "text": [
      "bool\n"
     ]
    }
   ],
   "source": [
    "# Valeurs possibles de la colonne availability\n",
    "df_books[\"availability\"] = df_books[\"availability\"].astype(\"bool\")\n",
    "print(df_books[\"availability\"].dtype)"
   ]
  },
  {
   "cell_type": "markdown",
   "id": "6c12b18a",
   "metadata": {},
   "source": [
    "Créer une fonction qui prend en entrée la valeur de `availability` et qui renvoie True ou False en fonction de la valeur d'entrée."
   ]
  },
  {
   "cell_type": "code",
   "execution_count": 54,
   "id": "679627d6",
   "metadata": {},
   "outputs": [],
   "source": [
    "# Fonction pour convertir la valeur de availability en booléen\n",
    "def convert_availability(value : str) -> bool:\n",
    "    \"\"\"Convert the availability value to a boolean.\n",
    "\n",
    "    Args:\n",
    "        value (str): The availability status of the book.\n",
    "\n",
    "    Returns:\n",
    "        bool: True if the book is available, False otherwise.\n",
    "    \"\"\"\n",
    "    if value == \"In stock\":\n",
    "        return True\n",
    "    else:\n",
    "        return False\n"
   ]
  },
  {
   "cell_type": "markdown",
   "id": "0dad009f",
   "metadata": {},
   "source": [
    "Utiliser la méthode [`apply`](https://pandas.pydata.org/pandas-docs/stable/reference/api/pandas.DataFrame.apply.html) pour appliquer la fonction à la colonne `availability`."
   ]
  },
  {
   "cell_type": "code",
   "execution_count": 55,
   "id": "3de7ec67",
   "metadata": {},
   "outputs": [
    {
     "name": "stdout",
     "output_type": "stream",
     "text": [
      "bool\n"
     ]
    }
   ],
   "source": [
    "# Convertir la colonne availability en booléen (True/False)\n",
    "df_books[\"availability\"] = df_books[\"availability\"].apply(convert_availability)\n",
    "\n",
    "# Vérification du type de la colonne availability\n",
    "print(df_books[\"availability\"].dtype)"
   ]
  },
  {
   "cell_type": "markdown",
   "id": "fd9877d9",
   "metadata": {},
   "source": [
    "Convertir la colonne _rating_ en chiffre en utilisant un dictionnaire `rating_map` et la méthode [_map_](https://pandas.pydata.org/pandas-docs/stable/reference/api/pandas.Series.map.html)."
   ]
  },
  {
   "cell_type": "code",
   "execution_count": 56,
   "id": "0d95564c",
   "metadata": {},
   "outputs": [
    {
     "name": "stdout",
     "output_type": "stream",
     "text": [
      "Int64\n"
     ]
    }
   ],
   "source": [
    "# Dictionnaire associant les notes au format initial et les valeurs numérique\n",
    "df_books[\"rating\"] = df_books[\"rating\"].astype(str).str.strip().str.title()\n",
    "\n",
    "ratings_map = {\"One\": 1, \"Two\": 2, \"Three\": 3, \"Four\": 4, \"Five\": 5}\n",
    "\n",
    "df_books[\"rating\"] = df_books[\"rating\"].map(ratings_map).astype(\"Int64\")\n",
    "\n",
    "# Vérification du type de la colonne rating\n",
    "print(df_books[\"rating\"].dtype)"
   ]
  },
  {
   "cell_type": "code",
   "execution_count": 57,
   "id": "69770cdf",
   "metadata": {},
   "outputs": [
    {
     "name": "stdout",
     "output_type": "stream",
     "text": [
      "title            object\n",
      "price           float64\n",
      "availability       bool\n",
      "rating            Int64\n",
      "dtype: object\n"
     ]
    }
   ],
   "source": [
    "# Créer une fonction convert_types qui combine les traitements faits dans les cellules précédentes\n",
    "def convert_types(df_books: pd.DataFrame) -> pd.DataFrame:\n",
    "    \"\"\"Convert the types of the DataFrame columns to appropriate types.\n",
    "\n",
    "    Args:\n",
    "        df_books (pd.DataFrame): The DataFrame containing book data.\n",
    "\n",
    "    Returns:\n",
    "        pd.DataFrame: The DataFrame with converted types.\n",
    "    \"\"\"\n",
    "    # Conversion de title en chaîne de caractères\n",
    "    df_books[\"title\"] = df_books[\"title\"].astype(str)\n",
    "    \n",
    "    # Convertir la colonne price en type décimal\n",
    "    df_books[\"price\"] = df_books[\"price\"].astype(str).str.removeprefix(\"£\")\n",
    "    df_books[\"price\"] = df_books[\"price\"].astype(float)\n",
    "\n",
    "    # Fonction pour convertir la valeur de availability en booléen\n",
    "    def convert_availability(value : str) -> bool:\n",
    "        if value == \"In stock\":\n",
    "            return True\n",
    "        else:\n",
    "            return False\n",
    "\n",
    "    # Convertir la colonne availability en booléen (True/False)\n",
    "    df_books[\"availability\"] = df_books[\"availability\"].apply(convert_availability)\n",
    "\n",
    "    df_books[\"rating\"] = df_books[\"rating\"].astype(str).str.strip().str.title()\n",
    "    ratings_map = {\"One\": 1, \"Two\": 2, \"Three\": 3, \"Four\": 4, \"Five\": 5}\n",
    "    df_books[\"rating\"] = df_books[\"rating\"].map(ratings_map).astype(\"Int64\")\n",
    "\n",
    "    return df_books\n",
    "\n",
    "print(convert_types(df_books).dtypes)"
   ]
  },
  {
   "cell_type": "markdown",
   "id": "b946ba92",
   "metadata": {},
   "source": [
    "---\n",
    "## 2. Insertion des données en base\n",
    "\n",
    "Dans cette section :\n",
    "- on créé une BDD sqlite  `book_store.db` (ou on se connecte à la base si elle existe déjà) en utilisant la bibliothèque python sqlite3,\n",
    "- on insère les données prétraitées dans la BDD\n",
    "\n",
    "Utiliser le [tutoriel](https://www.ionos.fr/digitalguide/sites-internet/developpement-web/sqlite3-avec-python/) pour l'utilisation de sqlite3.\n",
    "\n",
    "Utiliser la fonction pandas adaptée qui permet d'insérer un dataframe dans une BDD."
   ]
  },
  {
   "cell_type": "code",
   "execution_count": 58,
   "id": "9188c10c",
   "metadata": {},
   "outputs": [
    {
     "name": "stdout",
     "output_type": "stream",
     "text": [
      "0\n"
     ]
    }
   ],
   "source": [
    "# Création de la BDD et insertion des données\n",
    "\n",
    "# Création de la BDD\n",
    "connection = sqlite3.connect(\"/home/emese/Briefs_test/scraping/book_store.db\")\n",
    "# On vérifie que la BDD est créé\n",
    "print(connection.total_changes)\n",
    "\n",
    "# On crée un table dans la BDD avec le df\n",
    "df_books.to_sql('book_store', connection, if_exists='replace')\n",
    "connection.commit()\n"
   ]
  },
  {
   "cell_type": "markdown",
   "id": "3e34bcf5",
   "metadata": {},
   "source": [
    "Vérifier le nombre de livres présents dans la BDD en utilisant sqlite3 et la requête SQL adaptée."
   ]
  },
  {
   "cell_type": "code",
   "execution_count": 59,
   "id": "5671f153",
   "metadata": {},
   "outputs": [
    {
     "name": "stdout",
     "output_type": "stream",
     "text": [
      "1000\n"
     ]
    }
   ],
   "source": [
    "# Compter le nombre de livre dans la BDD\n",
    "\n",
    "# On crée un 'cursor' (integré dans la bibliothèque) pour interagir avec la BD\n",
    "cursor = connection.cursor()\n",
    "\n",
    "# On execute la requête pour compter le nombre de livres dans la BD\n",
    "cursor.execute(\"SELECT COUNT(*) FROM book_store\")\n",
    "\n",
    "#On affiche du résultat\n",
    "print(cursor.fetchone()[0])\n",
    "\n",
    "#On déconnecte\n",
    "#connection.close()"
   ]
  }
 ],
 "metadata": {
  "kernelspec": {
   "display_name": ".venv",
   "language": "python",
   "name": "python3"
  },
  "language_info": {
   "codemirror_mode": {
    "name": "ipython",
    "version": 3
   },
   "file_extension": ".py",
   "mimetype": "text/x-python",
   "name": "python",
   "nbconvert_exporter": "python",
   "pygments_lexer": "ipython3",
   "version": "3.12.3"
  }
 },
 "nbformat": 4,
 "nbformat_minor": 5
}
