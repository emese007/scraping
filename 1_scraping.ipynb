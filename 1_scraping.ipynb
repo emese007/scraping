{
 "cells": [
  {
   "cell_type": "markdown",
   "id": "9d3e66b1",
   "metadata": {},
   "source": [
    "# Scraping de données\n",
    "L'objectif de ce notebook est de découvrir la bibliothèque python _BeautifulSoup_ en scrapant les données du site http://books.toscrape.com/.\n",
    "\n",
    "- _BeautifulSoup_ est une bibliothèque Python permettant d’extraire facilement des données de documents HTML ou XML. \n",
    "- Elle est généralement utilisée avec la biliothèque _requests_ pour récupérer le contenu d'une page web, puis pour parcourir ou extraire des éléments HTML (balises, attributs, texte...).\n",
    "\n",
    "Les commentaires de code sont proposés pour l'instant en français mais les noms de variables sont en anglais (vous serez amener dans la suite de la formation à travailler en anglais comme c'est souvent le cas dans le milieu professionnel)."
   ]
  },
  {
   "cell_type": "code",
   "execution_count": 161,
   "id": "978d9037",
   "metadata": {},
   "outputs": [],
   "source": [
    "import requests\n",
    "from bs4 import BeautifulSoup\n",
    "import pandas as pd"
   ]
  },
  {
   "cell_type": "markdown",
   "id": "12bf2a1e",
   "metadata": {},
   "source": [
    "## 1. Parsing du HTML avec BeautifulSoup"
   ]
  },
  {
   "cell_type": "code",
   "execution_count": 162,
   "id": "905b3df7",
   "metadata": {},
   "outputs": [
    {
     "name": "stdout",
     "output_type": "stream",
     "text": [
      "<!DOCTYPE html>\n",
      "<!--[if lt IE 7]>      <html lang=\"en-us\" class=\"no-js lt-ie9 lt-ie8 lt-ie7\"> <![endif]-->\n",
      "<!--[if IE 7]>         <html lang=\"en-us\" class=\"no-js lt-ie9 lt-ie8\"> <![endif]-->\n",
      "<!--[if IE 8]>         <html lang=\"en-us\" class=\"no-js lt-ie9\"> <![endif]-->\n",
      "<!--[if gt IE 8]><!-->\n",
      "<html class=\"no-js\" lang=\"en-us\">\n",
      " <!--<![endif]-->\n",
      " <head>\n",
      "  <title>\n",
      "   All products | Books to Scrape - Sandbox\n",
      "  </title>\n",
      "  <meta content=\"text/html; charset=utf-8\" http-equiv=\"content-type\"/>\n",
      "  <meta content=\"24th Jun 2016 09:29\" name=\"created\"/>\n",
      "  <meta content=\"\" name=\"description\"/>\n",
      "  <meta content=\"width=device-width\" name=\"viewport\"/>\n",
      "  <meta content=\"NOARCHIVE,NOCACHE\" name=\"robots\"/>\n",
      "  <!-- Le HTML5 shim, for IE6-8 support of HTML elements -->\n",
      "  <!--[if lt IE 9]>\n",
      "        <script src=\"//html5shim.googlecode.com/svn/trunk/html5.js\"></script>\n",
      "        <![endif]-->\n",
      "  <link href=\"static/oscar/favicon.ico\" rel=\"shortcut icon\"/>\n",
      "  <link href=\"static/oscar/css/styles.css\" rel=\"stylesheet\" type=\"tex\n"
     ]
    }
   ],
   "source": [
    "# On récupère le contenu HTML d’une page\n",
    "url = \"http://books.toscrape.com/\"\n",
    "response = requests.get(url)\n",
    "\n",
    "# On stocke le contenu HTML dans une variable\n",
    "html_content = response.content\n",
    "\n",
    "# On crée un objet BeautifulSoup pour parser le HTML\n",
    "soup = BeautifulSoup(html_content, \"html.parser\")\n",
    "\n",
    "# Affichage des mille premier caractères du HTML formaté\n",
    "print(soup.prettify()[:1000])"
   ]
  },
  {
   "cell_type": "markdown",
   "id": "7cde18cb",
   "metadata": {},
   "source": [
    "`soup` est un objet BeautifulSoup qui permet de naviguer dans la structure HTML comme si c’était un arbre.\n",
    "On peut ensuite faire des recherches sur les balises, les classes, les attributs, etc.\n",
    "\n",
    "Sur le site web, ouvrir l'inspecteur pour comprendre ce que retournent les requêtes ci-dessous :"
   ]
  },
  {
   "cell_type": "code",
   "execution_count": 163,
   "id": "3d735482",
   "metadata": {},
   "outputs": [
    {
     "name": "stdout",
     "output_type": "stream",
     "text": [
      "<title>\n",
      "    All products | Books to Scrape - Sandbox\n",
      "</title>\n"
     ]
    }
   ],
   "source": [
    "# Affiche la balise <title>...</title>\n",
    "print(soup.title)"
   ]
  },
  {
   "cell_type": "code",
   "execution_count": 164,
   "id": "28a121ae",
   "metadata": {},
   "outputs": [
    {
     "name": "stdout",
     "output_type": "stream",
     "text": [
      "\n",
      "    All products | Books to Scrape - Sandbox\n",
      "\n"
     ]
    }
   ],
   "source": [
    "# On accède à la balise <title> et on l'affiche\n",
    "print(soup.title.text)"
   ]
  },
  {
   "cell_type": "code",
   "execution_count": 165,
   "id": "0c1091c3",
   "metadata": {},
   "outputs": [
    {
     "name": "stdout",
     "output_type": "stream",
     "text": [
      "<h1>All products</h1>\n"
     ]
    }
   ],
   "source": [
    "# On accède à la balise <h1> et on l'affiche\n",
    "print(soup.find(\"h1\")) "
   ]
  },
  {
   "cell_type": "code",
   "execution_count": 166,
   "id": "19d1b4e3",
   "metadata": {},
   "outputs": [
    {
     "name": "stdout",
     "output_type": "stream",
     "text": [
      "<article class=\"product_pod\">\n",
      "<div class=\"image_container\">\n",
      "<a href=\"catalogue/a-light-in-the-attic_1000/index.html\"><img alt=\"A Light in the Attic\" class=\"thumbnail\" src=\"media/cache/2c/da/2cdad67c44b002e7ead0cc35693c0e8b.jpg\"/></a>\n",
      "</div>\n",
      "<p class=\"star-rating Three\">\n",
      "<i class=\"icon-star\"></i>\n",
      "<i class=\"icon-star\"></i>\n",
      "<i class=\"icon-star\"></i>\n",
      "<i class=\"icon-star\"></i>\n",
      "<i class=\"icon-star\"></i>\n",
      "</p>\n",
      "<h3><a href=\"catalogue/a-light-in-the-attic_1000/index.html\" title=\"A Light in the Attic\">A Light in the ...</a></h3>\n",
      "<div class=\"product_price\">\n",
      "<p class=\"price_color\">£51.77</p>\n",
      "<p class=\"instock availability\">\n",
      "<i class=\"icon-ok\"></i>\n",
      "    \n",
      "        In stock\n",
      "    \n",
      "</p>\n",
      "<form>\n",
      "<button class=\"btn btn-primary btn-block\" data-loading-text=\"Adding...\" type=\"submit\">Add to basket</button>\n",
      "</form>\n",
      "</div>\n",
      "</article>\n"
     ]
    }
   ],
   "source": [
    "# Récupérer tous les titres de livres de la page d’accueil\n",
    "# Chaque livre est dans une balise <article class=\"product_pod\">\n",
    "# On utilise find_all pour trouver toutes les balises correspondantes\n",
    "# On peut ensuite accéder aux informations de chaque livre\n",
    "\n",
    "books = soup.find_all(\"article\", class_=\"product_pod\")\n",
    "\n",
    "# On affiche les informations récoltées sur le premier livre de la liste\n",
    "\n",
    "first_book = books[0]\n",
    "print(first_book)"
   ]
  },
  {
   "cell_type": "markdown",
   "id": "6f7c6cea",
   "metadata": {},
   "source": [
    "Ouvrir l'inspecteur dans votre navigateur pour chercher **quelle balise HTML** contient le titre des livres.\n",
    "\n",
    "Compléter les cellules de la suite du notebook en suivant les indications en commentaires."
   ]
  },
  {
   "cell_type": "code",
   "execution_count": 167,
   "id": "bcf37c09",
   "metadata": {},
   "outputs": [
    {
     "name": "stdout",
     "output_type": "stream",
     "text": [
      "A Light in the Attic\n"
     ]
    }
   ],
   "source": [
    "first_book = books[0]\n",
    "\n",
    "# On affiche le titre du premier livre\n",
    "title_first_book = first_book.h3.a[\"title\"]\n",
    "print(title_first_book)\n"
   ]
  },
  {
   "cell_type": "code",
   "execution_count": 168,
   "id": "343da911",
   "metadata": {},
   "outputs": [
    {
     "name": "stdout",
     "output_type": "stream",
     "text": [
      "A Light in the Attic\n",
      "Tipping the Velvet\n",
      "Soumission\n",
      "Sharp Objects\n",
      "Sapiens: A Brief History of Humankind\n",
      "The Requiem Red\n",
      "The Dirty Little Secrets of Getting Your Dream Job\n",
      "The Coming Woman: A Novel Based on the Life of the Infamous Feminist, Victoria Woodhull\n",
      "The Boys in the Boat: Nine Americans and Their Epic Quest for Gold at the 1936 Berlin Olympics\n",
      "The Black Maria\n",
      "Starving Hearts (Triangular Trade Trilogy, #1)\n",
      "Shakespeare's Sonnets\n",
      "Set Me Free\n",
      "Scott Pilgrim's Precious Little Life (Scott Pilgrim #1)\n",
      "Rip it Up and Start Again\n",
      "Our Band Could Be Your Life: Scenes from the American Indie Underground, 1981-1991\n",
      "Olio\n",
      "Mesaerion: The Best Science Fiction Stories 1800-1849\n",
      "Libertarianism for Beginners\n",
      "It's Only the Himalayas\n"
     ]
    }
   ],
   "source": [
    "# On parcourt la liste des livres et on affiche le titre de chacun\n",
    "for book in books:\n",
    "    title = book.h3.a[\"title\"]\n",
    "    print(title)\n"
   ]
  },
  {
   "cell_type": "markdown",
   "id": "57833cb1",
   "metadata": {},
   "source": [
    "Si l'on souhaite travailler sur cette liste de titres, on pourrait les ajouter à une liste vide à chaque itération de la boucle for ci-dessus.\n",
    "\n",
    "On peut également utiliser la compréhension de liste. C'est une pratique courante en python car plus concise et explicite, en particulier lorsqu'il y a plusieurs boucles _for_ imbriquées qui deviennent difficile à lire.\n",
    "\n",
    "En utilisant la [compréhension de liste](https://www.pythoniste.fr/python/comprendre-les-comprehensions-en-python/), créer une liste contenant les titres des livres récupérés dans la variable books.\n"
   ]
  },
  {
   "cell_type": "code",
   "execution_count": 169,
   "id": "bececb84",
   "metadata": {},
   "outputs": [
    {
     "name": "stdout",
     "output_type": "stream",
     "text": [
      "['A Light in the Attic', 'Tipping the Velvet', 'Soumission', 'Sharp Objects', 'Sapiens: A Brief History of Humankind', 'The Requiem Red', 'The Dirty Little Secrets of Getting Your Dream Job', 'The Coming Woman: A Novel Based on the Life of the Infamous Feminist, Victoria Woodhull', 'The Boys in the Boat: Nine Americans and Their Epic Quest for Gold at the 1936 Berlin Olympics', 'The Black Maria', 'Starving Hearts (Triangular Trade Trilogy, #1)', \"Shakespeare's Sonnets\", 'Set Me Free', \"Scott Pilgrim's Precious Little Life (Scott Pilgrim #1)\", 'Rip it Up and Start Again', 'Our Band Could Be Your Life: Scenes from the American Indie Underground, 1981-1991', 'Olio', 'Mesaerion: The Best Science Fiction Stories 1800-1849', 'Libertarianism for Beginners', \"It's Only the Himalayas\"]\n"
     ]
    }
   ],
   "source": [
    "# Liste des titres de livres en utilisant la compréhension de liste\n",
    "titles_list = [book.h3.a[\"title\"] for book in books]\n",
    "print(titles_list)"
   ]
  },
  {
   "cell_type": "markdown",
   "id": "fe403472",
   "metadata": {},
   "source": [
    "Afficher le nombre de livres trouvés sur la page d'accueil."
   ]
  },
  {
   "cell_type": "code",
   "execution_count": 170,
   "id": "9504fb14",
   "metadata": {},
   "outputs": [
    {
     "name": "stdout",
     "output_type": "stream",
     "text": [
      "Nombre de livres trouvés : 20\n"
     ]
    }
   ],
   "source": [
    "# Nombre de livres trouvés\n",
    "books_nb = len(books)\n",
    "print(f\"Nombre de livres trouvés : {books_nb}\")"
   ]
  },
  {
   "cell_type": "markdown",
   "id": "aa7d3999",
   "metadata": {},
   "source": [
    "Chercher les balises HTML permettant d'afficher les informations suivantes : "
   ]
  },
  {
   "cell_type": "code",
   "execution_count": 171,
   "id": "8a372935",
   "metadata": {},
   "outputs": [
    {
     "name": "stdout",
     "output_type": "stream",
     "text": [
      "Prix du premier livre : £51.77\n"
     ]
    }
   ],
   "source": [
    "# Prix du premier livre\n",
    "price_first_book = first_book.find(\"p\",class_=\"price_color\").text\n",
    "print(f\"Prix du premier livre : {price_first_book}\")"
   ]
  },
  {
   "cell_type": "markdown",
   "id": "4b6c6954",
   "metadata": {},
   "source": [
    "Afficher la note (_rating_) du premier livre."
   ]
  },
  {
   "cell_type": "code",
   "execution_count": 172,
   "id": "9c217cae",
   "metadata": {},
   "outputs": [
    {
     "name": "stdout",
     "output_type": "stream",
     "text": [
      "Note du premier livre : Three\n"
     ]
    }
   ],
   "source": [
    "# Afficher la note (rating) du premier livre\n",
    "rating_tag = first_book.find(\"p\",class_=\"star-rating\")\n",
    "rating_classes = rating_tag[\"class\"]\n",
    "rating_first_book = rating_classes[1]\n",
    "print(f\"Note du premier livre : {rating_first_book}\")"
   ]
  },
  {
   "cell_type": "markdown",
   "id": "7240c183",
   "metadata": {},
   "source": [
    "Compléter la cellule suivante en s'inspirant du modèle ci-dessus."
   ]
  },
  {
   "cell_type": "code",
   "execution_count": 173,
   "id": "f97f6c43",
   "metadata": {},
   "outputs": [
    {
     "name": "stdout",
     "output_type": "stream",
     "text": [
      "Titre : A Light in the Attic, Prix : £51.77, Disponibilité : In stock\n",
      "Titre : Tipping the Velvet, Prix : £53.74, Disponibilité : In stock\n",
      "Titre : Soumission, Prix : £50.10, Disponibilité : In stock\n",
      "Titre : Sharp Objects, Prix : £47.82, Disponibilité : In stock\n",
      "Titre : Sapiens: A Brief History of Humankind, Prix : £54.23, Disponibilité : In stock\n",
      "Titre : The Requiem Red, Prix : £22.65, Disponibilité : In stock\n",
      "Titre : The Dirty Little Secrets of Getting Your Dream Job, Prix : £33.34, Disponibilité : In stock\n",
      "Titre : The Coming Woman: A Novel Based on the Life of the Infamous Feminist, Victoria Woodhull, Prix : £17.93, Disponibilité : In stock\n",
      "Titre : The Boys in the Boat: Nine Americans and Their Epic Quest for Gold at the 1936 Berlin Olympics, Prix : £22.60, Disponibilité : In stock\n",
      "Titre : The Black Maria, Prix : £52.15, Disponibilité : In stock\n",
      "Titre : Starving Hearts (Triangular Trade Trilogy, #1), Prix : £13.99, Disponibilité : In stock\n",
      "Titre : Shakespeare's Sonnets, Prix : £20.66, Disponibilité : In stock\n",
      "Titre : Set Me Free, Prix : £17.46, Disponibilité : In stock\n",
      "Titre : Scott Pilgrim's Precious Little Life (Scott Pilgrim #1), Prix : £52.29, Disponibilité : In stock\n",
      "Titre : Rip it Up and Start Again, Prix : £35.02, Disponibilité : In stock\n",
      "Titre : Our Band Could Be Your Life: Scenes from the American Indie Underground, 1981-1991, Prix : £57.25, Disponibilité : In stock\n",
      "Titre : Olio, Prix : £23.88, Disponibilité : In stock\n",
      "Titre : Mesaerion: The Best Science Fiction Stories 1800-1849, Prix : £37.59, Disponibilité : In stock\n",
      "Titre : Libertarianism for Beginners, Prix : £51.33, Disponibilité : In stock\n",
      "Titre : It's Only the Himalayas, Prix : £45.17, Disponibilité : In stock\n"
     ]
    }
   ],
   "source": [
    "# Pour chaque livre, on souhaite afficher : le prix, le titre et la disponibilité\n",
    "for book in books:\n",
    "    title = book.h3.a[\"title\"]\n",
    "    price = book.find(\"p\",class_=\"price_color\").text\n",
    "    availability = book.find(\"p\",class_=\"instock availability\").text.strip()\n",
    "    print(f\"Titre : {title}, Prix : {price}, Disponibilité : {availability}\")"
   ]
  },
  {
   "cell_type": "markdown",
   "id": "f18b886c",
   "metadata": {},
   "source": [
    "---\n",
    "## 2. Fonctions python d'extraction des données\n",
    "\n",
    "**Généralités**\n",
    "\n",
    "Une fonction est une portion de code effectuant une suite d'instructions. \n",
    "\n",
    "Chaque fonction effectue en général une tâche unique et précise. Si cela se complique, il est plus judicieux d'écrire plusieurs fonctions (qui peuvent éventuellement s'appeler les unes les autres).\n",
    "\n",
    "`def` permet de definir la fonction.\n",
    "Si on souhaite que la fonction renvoie quelque chose, il faut utiliser le mot-clé `return`.\n",
    "On utilise des docstrings (=documentation) sous le format \"\"\" Explications de la fonction \"\"\" qui fournit des informations sur ce que fait la fonction, quelles sont les paramètres d'entrée (Args) et que renvoie la fonction (Returns).\n",
    "\n",
    "--> [Ressources fonctions python](https://python.sdv.u-paris.fr/10_fonctions/)\n",
    "\n",
    "---\n",
    "\n",
    "En suivant les documentations de fonction et en utilisant le travail de la partie précédente, implémenter les fonctions permettant d'extraire les informations des livres.\n",
    "\n",
    "\n",
    "\n",
    "**Note**\n",
    "\n",
    "Un Ctrl+clic sur le nom de n'importe quelle fonction vous emmène à la définition de cette fonction.\n"
   ]
  },
  {
   "cell_type": "code",
   "execution_count": 174,
   "id": "03144818",
   "metadata": {},
   "outputs": [
    {
     "data": {
      "text/plain": [
       "'A Light in the Attic'"
      ]
     },
     "execution_count": 174,
     "metadata": {},
     "output_type": "execute_result"
    }
   ],
   "source": [
    "# Fonction pour extraire le titre d'un livre\n",
    "def extract_title(book: BeautifulSoup) -> str:\n",
    "\n",
    "    title = book.h3.a[\"title\"]\n",
    "\n",
    "    return title\n",
    "    \n",
    "    \"\"\"Extract the title of a book from a BeautifulSoup object.\n",
    "\n",
    "    Args:\n",
    "        book (BeautifulSoup): The HTML element of the book.\n",
    "\n",
    "    Returns:\n",
    "        str: The title of the book.\n",
    "    \"\"\"\n",
    "\n",
    "extract_title(books[0])\n"
   ]
  },
  {
   "cell_type": "code",
   "execution_count": 175,
   "id": "ade70bc7",
   "metadata": {},
   "outputs": [
    {
     "data": {
      "text/plain": [
       "'£51.77'"
      ]
     },
     "execution_count": 175,
     "metadata": {},
     "output_type": "execute_result"
    }
   ],
   "source": [
    "# Fonction pour extraire le prix d'un livre\n",
    "def extract_price(book: BeautifulSoup) -> str:\n",
    "\n",
    "    price = book.find(\"p\",class_=\"price_color\").text\n",
    "\n",
    "    return price\n",
    "\n",
    "    \"\"\"Extract the price of a book from a BeautifulSoup object.\n",
    "\n",
    "    Args:\n",
    "        book (BeautifulSoup): The HTML element of the book.\n",
    "\n",
    "    Returns:\n",
    "        str: The price of the book.\n",
    "    \"\"\"\n",
    "    \n",
    "extract_price(books[0])"
   ]
  },
  {
   "cell_type": "code",
   "execution_count": 186,
   "id": "6e1fb522",
   "metadata": {},
   "outputs": [
    {
     "data": {
      "text/plain": [
       "'Three'"
      ]
     },
     "execution_count": 186,
     "metadata": {},
     "output_type": "execute_result"
    }
   ],
   "source": [
    "# Fonction pour extraire la note d'un livre\n",
    "def extract_rating(book: BeautifulSoup) -> str:\n",
    "\n",
    "    \n",
    "    rating = book.find(\"p\", class_=\"star-rating\")[\"class\"][1]\n",
    "\n",
    "    return rating\n",
    "\n",
    "    \"\"\"Extract the rating of a book from a BeautifulSoup object.\n",
    "\n",
    "    Args:\n",
    "        book (BeautifulSoup): The HTML element of the book.\n",
    "\n",
    "    Returns:\n",
    "        str: The rating of the book.\n",
    "    \"\"\"\n",
    "\n",
    "extract_rating(books[0])"
   ]
  },
  {
   "cell_type": "code",
   "execution_count": 192,
   "id": "a2561562",
   "metadata": {},
   "outputs": [
    {
     "data": {
      "text/plain": [
       "'In stock'"
      ]
     },
     "execution_count": 192,
     "metadata": {},
     "output_type": "execute_result"
    }
   ],
   "source": [
    "# Fonction pour extraire la disponibilité d'un livre\n",
    "def extract_availability(book: BeautifulSoup) -> str:\n",
    "\n",
    "    availability = book.find(\"p\", class_=\"instock availability\").text.strip()\n",
    "    return availability\n",
    "\n",
    "    \"\"\"Extract the availability of a book from a BeautifulSoup object.\n",
    "\n",
    "    Args:\n",
    "        book (BeautifulSoup): The HTML element of the book.\n",
    "\n",
    "    Returns:\n",
    "        str: The availability of the book.\n",
    "    \"\"\"\n",
    "\n",
    "extract_availability(books[0])"
   ]
  },
  {
   "cell_type": "markdown",
   "id": "465ca098",
   "metadata": {},
   "source": [
    "Créer une fonction qui combine les informations d'un livre dans un dictionnaire sous la forme :\n",
    " \n",
    " {\n",
    "    \"title\": \"Titre du livre\",\n",
    "     \"price\": \"Prix du livre\",\n",
    "     \"rating\": \"Note du livre\",\n",
    "     \"availability\": \"Disponibilité du livre\"\n",
    " }"
   ]
  },
  {
   "cell_type": "code",
   "execution_count": 191,
   "id": "4a52ab5f",
   "metadata": {},
   "outputs": [
    {
     "data": {
      "text/plain": [
       "{'title': 'A Light in the Attic',\n",
       " 'price': '£51.77',\n",
       " 'availability': 'In stock',\n",
       " 'rating': 'Three'}"
      ]
     },
     "execution_count": 191,
     "metadata": {},
     "output_type": "execute_result"
    }
   ],
   "source": [
    "# Fonction qui combine les informations d'un livre dans un dictionnaire\n",
    "def extract_book_info(book: BeautifulSoup) -> dict:\n",
    "    \"\"\"Extract all information of a book from a BeautifulSoup object.\n",
    "\n",
    "    Args:\n",
    "        book (BeautifulSoup): The HTML element of the book.\n",
    "\n",
    "    Returns:\n",
    "        dict: A dictionary containing the title, price, rating, and availability of the book.\n",
    "    \"\"\"\n",
    "    title = book.h3.a['title']\n",
    "    price = book.find(\"p\",class_=\"price_color\").text\n",
    "    availability = book.find(\"p\", class_=\"instock availability\").text.strip()\n",
    "    rating = book.find(\"p\", class_=\"star-rating\")[\"class\"][1]\n",
    "        \n",
    "    return {\"title\": title, \"price\": price, \"availability\": availability, \"rating\": rating}\n",
    "\n",
    "extract_book_info(books[0])"
   ]
  },
  {
   "cell_type": "markdown",
   "id": "2ff1821c",
   "metadata": {},
   "source": [
    "\n",
    "En utilisant :\n",
    "- la fonction `extract_book_info` implémentée ci-dessus,\n",
    "- la [compréhension de liste](https://www.pythoniste.fr/python/comprendre-les-comprehensions-en-python/)\n",
    "\n",
    "créer une liste `data_books` qui contient des dictionnaires décrivant les informations disponibles pour chaque livres, sous la forme :\n",
    "\n",
    "```\n",
    "[\n",
    "    {\"title\": \"A Light in the ...\", \"price\": \"£51.77\", \"availability\": \"In stock\"},\n",
    "    {\"title\": \"Tipping the Velvet\", \"price\": \"£53.74\", \"availability\": \"In stock\"},\n",
    "    ...\n",
    "]\n",
    "```"
   ]
  },
  {
   "cell_type": "code",
   "execution_count": 194,
   "id": "27ef3a24",
   "metadata": {},
   "outputs": [
    {
     "name": "stdout",
     "output_type": "stream",
     "text": [
      "[{'title': 'A Light in the Attic', 'price': '£51.77', 'availability': 'In stock', 'rating': 'Three'}, {'title': 'Tipping the Velvet', 'price': '£53.74', 'availability': 'In stock', 'rating': 'One'}, {'title': 'Soumission', 'price': '£50.10', 'availability': 'In stock', 'rating': 'One'}, {'title': 'Sharp Objects', 'price': '£47.82', 'availability': 'In stock', 'rating': 'Four'}, {'title': 'Sapiens: A Brief History of Humankind', 'price': '£54.23', 'availability': 'In stock', 'rating': 'Five'}]\n"
     ]
    }
   ],
   "source": [
    "# Création d'une liste de dictionnaires contenant les informations de chaque livre\n",
    "\n",
    "data_books = [extract_book_info(book) for book in books]\n",
    "\n",
    "#list_books = []\n",
    "#for book in books:\n",
    "#    list_books.append(extract_book_info(book))\n",
    "\n",
    "\n",
    "# Affichage des 5 premiers livres\n",
    "print(data_books[:5]) \n",
    "#print(list_books[:5]) \n"
   ]
  },
  {
   "cell_type": "markdown",
   "id": "797666f5",
   "metadata": {},
   "source": [
    "On aurait pu créer la liste de dictionnaires en utilisant une boucle for et en ne passant pas par l'utilisation de fonctions.\n",
    "\n",
    "--> **Il y a toujours de nombreuses manières de coder une solution pour arriver à un même résultat.** \n"
   ]
  },
  {
   "cell_type": "markdown",
   "id": "a2842fdb",
   "metadata": {},
   "source": [
    "Pourquoi on propose ici de segmenter le code dans de très courtes fonctions python ?\n",
    "\n",
    "- Ici le cas d'application est simple donc les fonctions sont très courtes, la méthode utilisée ici s'adapte bien à des structure de données sont plus complexes.\n",
    "\n",
    "- Le code est plus évolutif et maintenable : \n",
    "\n",
    "Chaque structure de données peut évoluer séparément dans le HTML. Si une structure évolue il est simple de mettre à jour une fonction qui extrait cette donnnées plutôt que de devoir chercher dans le code chaque endroit où cette donnée est extraite.\n",
    "\n",
    "\n",
    "- Chaque fonction peut être testée individuellement.\n",
    "- Le code est plus compréhensible pour le lecteur."
   ]
  },
  {
   "cell_type": "markdown",
   "id": "2e93a726",
   "metadata": {},
   "source": [
    "Utiliser pandas pour afficher _data_books_ dans un dataframe."
   ]
  },
  {
   "cell_type": "code",
   "execution_count": 180,
   "id": "5ae930a2",
   "metadata": {},
   "outputs": [
    {
     "name": "stdout",
     "output_type": "stream",
     "text": [
      "                                   title   price availability rating\n",
      "0                   A Light in the Attic  £51.77     In stock  Three\n",
      "1                     Tipping the Velvet  £53.74     In stock    One\n",
      "2                             Soumission  £50.10     In stock    One\n",
      "3                          Sharp Objects  £47.82     In stock   Four\n",
      "4  Sapiens: A Brief History of Humankind  £54.23     In stock   Five\n"
     ]
    }
   ],
   "source": [
    "# Création d'un DataFrame à partir de la liste\n",
    "df_books = pd.DataFrame(data_books) \n",
    "\n",
    "# Afficher le début du DataFrame\n",
    "print(df_books.head())"
   ]
  },
  {
   "cell_type": "markdown",
   "id": "71f06599",
   "metadata": {},
   "source": [
    "---\n",
    "## 3. Itération sur plusieurs pages HTML"
   ]
  },
  {
   "cell_type": "markdown",
   "id": "a6c73b2c",
   "metadata": {},
   "source": [
    "Dans la partie précédente, on a scrapé uniquement la page d'accueil.\n",
    "\n",
    "A présent, on souhaite récupérer les données de 50 pages du catalogue.\n",
    "\n",
    "- Implémenter une fonction qui récupère le contenu HTML d'une page à partir de son url (cf partie 1.)\n",
    "- Implémenter une fonction qui crée une liste dictionnaire avec les informations de chaque livres de la page (utiliser la fonction `extract_book_info`)."
   ]
  },
  {
   "cell_type": "code",
   "execution_count": 195,
   "id": "ba4ed1d6",
   "metadata": {},
   "outputs": [],
   "source": [
    "def get_books_html(url: str) -> BeautifulSoup:\n",
    "\n",
    "    \"\"\"Fetch the HTML content of a book page.\n",
    "\n",
    "    Args:\n",
    "        url (str): The URL of the book page.\n",
    "\n",
    "    Returns:\n",
    "        BeautifulSoup: A BeautifulSoup object containing the HTML content.\n",
    "    \"\"\"\n",
    "    \n",
    "    response = requests.get(url)\n",
    "    return BeautifulSoup(response.content, \"html.parser\")\n"
   ]
  },
  {
   "cell_type": "code",
   "execution_count": 197,
   "id": "61dad9a9",
   "metadata": {},
   "outputs": [],
   "source": [
    "# Test de la fonction get_book_html avec la page 2\n",
    "#get_books_html(\"http://books.toscrape.com/catalogue/page-2.html\")"
   ]
  },
  {
   "cell_type": "markdown",
   "id": "933ef81f",
   "metadata": {},
   "source": [
    "Naviguer sur le site pour comprendre quel est le format des URL des différentes pages du catalogue.\n"
   ]
  },
  {
   "cell_type": "markdown",
   "id": "0ab19c24",
   "metadata": {},
   "source": [
    "- Créer une variable _base_url_ dans laquelle vous viendrez par la suite mettre à jour la partie qui varie.\n",
    "- Pour chaque page :\n",
    "    - Construire l’URL adapté, \n",
    "    - Utiliser la fonction `get_books_html` pour récupérer les livres de la page,\n",
    "    - Utiliser la compréhension de liste (cf ci-dessus pour créer `data_books`) et la fonction `extract_book_info` pour obtenir une liste de dictionnaire des titres, prix, note et disponibilité des livres contenus dans la page,\n",
    "- Créer une liste qui contiendra tous les dictionnaires scrapés."
   ]
  },
  {
   "cell_type": "code",
   "execution_count": 183,
   "id": "a0d53140",
   "metadata": {},
   "outputs": [],
   "source": [
    "# Parcourir les pages et récupérer les livres\n",
    "def scrape_books(pages: int) -> list[dict]:\n",
    "\n",
    "    \"\"\"Scrape books from the specified number of pages.\n",
    "\n",
    "    Args:\n",
    "        pages (int): The number of pages to scrape.\n",
    "\n",
    "    Returns:\n",
    "        list: A list of dictionaries containing books information.\n",
    "    \"\"\"\n",
    "\n",
    "    base_url = \"http://books.toscrape.com/catalogue/page-{}.html\"\n",
    "    all_books = []\n",
    "\n",
    "    for page in range(1, pages + 1):\n",
    "\n",
    "        url = base_url.format(page)\n",
    "\n",
    "        books_html = get_books_html(url)\n",
    "\n",
    "        data_books = [extract_book_info(book_html) for book_html in books_html]\n",
    "\n",
    "        all_books.extend(data_books)\n",
    "\n",
    "    return all_books\n",
    "\n",
    "    #\"data_books = [extract_book_info(get_books_html(base_url)) for book in books]\n",
    "    #\"for book in books:\n",
    "        #\"all_books.append(extract_book_info(book))\n",
    "\n",
    "\n",
    "\n"
   ]
  },
  {
   "cell_type": "code",
   "execution_count": 185,
   "id": "37d86eb6",
   "metadata": {},
   "outputs": [
    {
     "ename": "AttributeError",
     "evalue": "'NavigableString' object has no attribute 'h3'",
     "output_type": "error",
     "traceback": [
      "\u001b[31m---------------------------------------------------------------------------\u001b[39m",
      "\u001b[31mAttributeError\u001b[39m                            Traceback (most recent call last)",
      "\u001b[36mCell\u001b[39m\u001b[36m \u001b[39m\u001b[32mIn[185]\u001b[39m\u001b[32m, line 2\u001b[39m\n\u001b[32m      1\u001b[39m \u001b[38;5;66;03m# Test de la fonction scrape_books avec 50 pages\u001b[39;00m\n\u001b[32m----> \u001b[39m\u001b[32m2\u001b[39m all_books = \u001b[43mscrape_books\u001b[49m\u001b[43m(\u001b[49m\u001b[32;43m50\u001b[39;49m\u001b[43m)\u001b[49m\n\u001b[32m      3\u001b[39m \u001b[38;5;28mprint\u001b[39m(scrape_books(\u001b[32m50\u001b[39m)[\u001b[32m5\u001b[39m:]) \n",
      "\u001b[36mCell\u001b[39m\u001b[36m \u001b[39m\u001b[32mIn[183]\u001b[39m\u001b[32m, line 22\u001b[39m, in \u001b[36mscrape_books\u001b[39m\u001b[34m(pages)\u001b[39m\n\u001b[32m     18\u001b[39m     url = base_url.format(page)\n\u001b[32m     20\u001b[39m     books_html = get_books_html(url)\n\u001b[32m---> \u001b[39m\u001b[32m22\u001b[39m     data_books = [\u001b[43mextract_book_info\u001b[49m\u001b[43m(\u001b[49m\u001b[43mbook_html\u001b[49m\u001b[43m)\u001b[49m \u001b[38;5;28;01mfor\u001b[39;00m book_html \u001b[38;5;129;01min\u001b[39;00m books_html]\n\u001b[32m     24\u001b[39m     all_books.extend(data_books)\n\u001b[32m     26\u001b[39m \u001b[38;5;28;01mreturn\u001b[39;00m all_books\n",
      "\u001b[36mCell\u001b[39m\u001b[36m \u001b[39m\u001b[32mIn[178]\u001b[39m\u001b[32m, line 11\u001b[39m, in \u001b[36mextract_book_info\u001b[39m\u001b[34m(book)\u001b[39m\n\u001b[32m      2\u001b[39m \u001b[38;5;28;01mdef\u001b[39;00m\u001b[38;5;250m \u001b[39m\u001b[34mextract_book_info\u001b[39m(book: BeautifulSoup) -> \u001b[38;5;28mdict\u001b[39m:\n\u001b[32m      3\u001b[39m \u001b[38;5;250m    \u001b[39m\u001b[33;03m\"\"\"Extract all information of a book from a BeautifulSoup object.\u001b[39;00m\n\u001b[32m      4\u001b[39m \n\u001b[32m      5\u001b[39m \u001b[33;03m    Args:\u001b[39;00m\n\u001b[32m   (...)\u001b[39m\u001b[32m      9\u001b[39m \u001b[33;03m        dict: A dictionary containing the title, price, rating, and availability of the book.\u001b[39;00m\n\u001b[32m     10\u001b[39m \u001b[33;03m    \"\"\"\u001b[39;00m\n\u001b[32m---> \u001b[39m\u001b[32m11\u001b[39m     title = \u001b[43mbook\u001b[49m\u001b[43m.\u001b[49m\u001b[43mh3\u001b[49m.a[\u001b[33m'\u001b[39m\u001b[33mtitle\u001b[39m\u001b[33m'\u001b[39m]\n\u001b[32m     12\u001b[39m     price = price = book.find(\u001b[33m\"\u001b[39m\u001b[33mp\u001b[39m\u001b[33m\"\u001b[39m,class_=\u001b[33m\"\u001b[39m\u001b[33mprice_color\u001b[39m\u001b[33m\"\u001b[39m).text\n\u001b[32m     13\u001b[39m     availability = book.find(\u001b[33m\"\u001b[39m\u001b[33mp\u001b[39m\u001b[33m\"\u001b[39m, class_=\u001b[33m\"\u001b[39m\u001b[33minstock availability\u001b[39m\u001b[33m\"\u001b[39m).text.strip()\n",
      "\u001b[31mAttributeError\u001b[39m: 'NavigableString' object has no attribute 'h3'"
     ]
    }
   ],
   "source": [
    "# Test de la fonction scrape_books avec 50 pages\n",
    "all_books = scrape_books(50)\n",
    "print(scrape_books(50)[5:]) "
   ]
  },
  {
   "cell_type": "markdown",
   "id": "8f43b2f0",
   "metadata": {},
   "source": [
    "Créer un DataFrame avec les données scrapées,"
   ]
  },
  {
   "cell_type": "code",
   "execution_count": null,
   "id": "d3b9566c",
   "metadata": {},
   "outputs": [
    {
     "name": "stdout",
     "output_type": "stream",
     "text": [
      "                                   title   price availability rating\n",
      "0                   A Light in the Attic  £51.77     In stock  Three\n",
      "1                     Tipping the Velvet  £53.74     In stock    One\n",
      "2                             Soumission  £50.10     In stock    One\n",
      "3                          Sharp Objects  £47.82     In stock   Four\n",
      "4  Sapiens: A Brief History of Humankind  £54.23     In stock   Five\n"
     ]
    }
   ],
   "source": [
    "# Création d'un DataFrame à partir de la liste\n",
    "all_books = pd.DataFrame(data_books)\n",
    "print(df_books.head())"
   ]
  },
  {
   "cell_type": "code",
   "execution_count": null,
   "id": "3ee951f4",
   "metadata": {},
   "outputs": [
    {
     "name": "stdout",
     "output_type": "stream",
     "text": [
      "Nombre de livres scrapés : 20\n"
     ]
    }
   ],
   "source": [
    "# Nombre de livres scrapés\n",
    "books_nb = len(data_books)\n",
    "print(f\"Nombre de livres scrapés : {books_nb}\")"
   ]
  },
  {
   "cell_type": "markdown",
   "id": "64e6a246",
   "metadata": {},
   "source": [
    "Chercher dans la doc [pandas](https://pandas.pydata.org/docs/) la fonction permettant de sauvegarder les données dans un fichier CSV.\n",
    "\n",
    "Sauvegarder les données dans un fichier _books_infos.csv_\n"
   ]
  },
  {
   "cell_type": "code",
   "execution_count": null,
   "id": "37c15c3c",
   "metadata": {},
   "outputs": [],
   "source": [
    "# Sauvegarder les données dans un fichier csv\n",
    "all_books.to_csv(\"book_infos.csv\", index=\"False\")"
   ]
  }
 ],
 "metadata": {
  "kernelspec": {
   "display_name": ".venv (3.12.3)",
   "language": "python",
   "name": "python3"
  },
  "language_info": {
   "codemirror_mode": {
    "name": "ipython",
    "version": 3
   },
   "file_extension": ".py",
   "mimetype": "text/x-python",
   "name": "python",
   "nbconvert_exporter": "python",
   "pygments_lexer": "ipython3",
   "version": "3.12.3"
  }
 },
 "nbformat": 4,
 "nbformat_minor": 5
}
